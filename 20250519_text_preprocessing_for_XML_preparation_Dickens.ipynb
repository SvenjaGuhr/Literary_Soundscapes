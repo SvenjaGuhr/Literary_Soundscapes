{
 "cells": [
  {
   "cell_type": "markdown",
   "source": [
    "## Chose the extension of the training data: automatically preannotate, manually control and correct the false positives"
   ],
   "metadata": {
    "collapsed": false
   },
   "id": "596a959a8cbd699b"
  },
  {
   "cell_type": "code",
   "outputs": [
    {
     "name": "stdout",
     "output_type": "stream",
     "text": [
      "Copied 'BH.txt' to '/Users/sguhr/Downloads/corpora-master/DNovXML'\n",
      "Copied 'BR.txt' to '/Users/sguhr/Downloads/corpora-master/DNovXML'\n",
      "Copied 'DC.txt' to '/Users/sguhr/Downloads/corpora-master/DNovXML'\n",
      "Copied 'DS.txt' to '/Users/sguhr/Downloads/corpora-master/DNovXML'\n",
      "Copied 'ED.txt' to '/Users/sguhr/Downloads/corpora-master/DNovXML'\n",
      "Copied 'GE.txt' to '/Users/sguhr/Downloads/corpora-master/DNovXML'\n",
      "Copied 'HT.txt' to '/Users/sguhr/Downloads/corpora-master/DNovXML'\n",
      "Copied 'LD.txt' to '/Users/sguhr/Downloads/corpora-master/DNovXML'\n",
      "Copied 'MC.txt' to '/Users/sguhr/Downloads/corpora-master/DNovXML'\n",
      "Copied 'NN.txt' to '/Users/sguhr/Downloads/corpora-master/DNovXML'\n",
      "Copied 'OCS.txt' to '/Users/sguhr/Downloads/corpora-master/DNovXML'\n",
      "Copied 'OMF.txt' to '/Users/sguhr/Downloads/corpora-master/DNovXML'\n",
      "Copied 'OT.txt' to '/Users/sguhr/Downloads/corpora-master/DNovXML'\n",
      "Copied 'PP.txt' to '/Users/sguhr/Downloads/corpora-master/DNovXML'\n",
      "Copied 'TTC.txt' to '/Users/sguhr/Downloads/corpora-master/DNovXML'\n"
     ]
    }
   ],
   "source": [
    "# this function iterates over a folder with txt files and copies and pastes all the files whose names are written in a list with file names to store them in a new folder\n",
    "# used for subcorpora creation\n",
    "\n",
    "import os\n",
    "import shutil\n",
    "\n",
    "def copy_files(source_dir, destination_dir, file_list):\n",
    "    # Create the destination directory if it doesn't exist\n",
    "    if not os.path.exists(destination_dir):\n",
    "        os.makedirs(destination_dir)\n",
    "\n",
    "    # Iterate through the list of filenames\n",
    "    for filename in file_list:\n",
    "        source_file_path = os.path.join(source_dir, filename)\n",
    "        destination_file_path = os.path.join(destination_dir, filename)\n",
    "        \n",
    "        # Check if the file exists in the source directory\n",
    "        if os.path.exists(source_file_path):\n",
    "            # Copy the file to the destination directory\n",
    "            shutil.copy2(source_file_path, destination_file_path)\n",
    "            print(f\"Copied '{filename}' to '{destination_dir}'\")\n",
    "        else:\n",
    "            print(f\"File '{filename}' not found in '{source_dir}'\")\n",
    "\n",
    "# Example usage\n",
    "source_directory = \"/Users/sguhr/Downloads/corpora-master/DNov\"\n",
    "destination_directory = \"/Users/sguhr/Downloads/corpora-master/DNovXML\"\n",
    "file_names_list = [\"BH.txt\", \"BR.txt\", \"DC.txt\", \"DS.txt\", \"ED.txt\", \"GE.txt\", \"HT.txt\", \"LD.txt\", \"MC.txt\", \"NN.txt\", \"OCS.txt\", \"OMF.txt\", \"OT.txt\", \"PP.txt\", \"TTC.txt\"] # List of file names to copy\n",
    "\n",
    "copy_files(source_directory, destination_directory, file_names_list)\n"
   ],
   "metadata": {
    "collapsed": false,
    "ExecuteTime": {
     "end_time": "2025-05-19T09:54:59.594462Z",
     "start_time": "2025-05-19T09:54:59.561932Z"
    }
   },
   "id": "32ce3920308b2787",
   "execution_count": 1
  },
  {
   "cell_type": "markdown",
   "source": [
    "# Take the corpus texts and prepare them for becoming XML files\n",
    "1) No \"&\", \"$\", \"<\", \">\"\n",
    "2) Normalize all \"\" to \"\" and ''\n",
    "2) change ´s to 's\n",
    "3) no \\n in the texts if not as double \\n\\n for real paragraphs"
   ],
   "metadata": {
    "collapsed": false
   },
   "id": "125ffad5afa31a20"
  },
  {
   "cell_type": "code",
   "outputs": [],
   "source": [
    "corpus_directory = destination_directory"
   ],
   "metadata": {
    "collapsed": false,
    "ExecuteTime": {
     "end_time": "2025-05-19T09:55:09.780624Z",
     "start_time": "2025-05-19T09:55:09.778039Z"
    }
   },
   "id": "dde596ef3adeb866",
   "execution_count": 2
  },
  {
   "cell_type": "code",
   "outputs": [
    {
     "data": {
      "text/plain": "['OMF.txt',\n 'GE.txt',\n 'TTC.txt',\n 'BH.txt',\n 'NN.txt',\n 'MC.txt',\n 'LD.txt',\n 'OT.txt',\n 'BR.txt',\n 'OCS.txt']"
     },
     "execution_count": 3,
     "metadata": {},
     "output_type": "execute_result"
    }
   ],
   "source": [
    "# Generate a corpus by loading all the txt files from the chosen directory \n",
    "# and list the names of the first 10 txt files \n",
    "corpus = os.listdir(corpus_directory)\n",
    "corpus[:10]"
   ],
   "metadata": {
    "collapsed": false,
    "ExecuteTime": {
     "end_time": "2025-05-19T09:55:11.192269Z",
     "start_time": "2025-05-19T09:55:11.187151Z"
    }
   },
   "id": "52f3bc72ffa4d8c6",
   "execution_count": 3
  },
  {
   "cell_type": "code",
   "outputs": [
    {
     "name": "stdout",
     "output_type": "stream",
     "text": [
      ".DS_Store does not exist in the specified directory.\n"
     ]
    }
   ],
   "source": [
    "#to delete the .DS_Store file that always pops up with Mac\n",
    "\n",
    "import os\n",
    "\n",
    "#corpus_directory = \"/path/to/your/corpus/directory\"\n",
    "file_to_delete = \".DS_Store\"\n",
    "file_path = os.path.join(corpus_directory, file_to_delete)\n",
    "\n",
    "if os.path.exists(file_path):\n",
    "    os.remove(file_path)\n",
    "    print(f\"{file_to_delete} has been deleted.\")\n",
    "else:\n",
    "    print(f\"{file_to_delete} does not exist in the specified directory.\")"
   ],
   "metadata": {
    "collapsed": false,
    "ExecuteTime": {
     "end_time": "2025-05-19T09:55:15.075366Z",
     "start_time": "2025-05-19T09:55:15.072630Z"
    }
   },
   "id": "812a684307e5f74f",
   "execution_count": 4
  },
  {
   "cell_type": "code",
   "outputs": [
    {
     "name": "stdout",
     "output_type": "stream",
     "text": [
      "15\n"
     ]
    }
   ],
   "source": [
    "# Print how many txt files are in the corpus; if .DS_Store file was deleted, you have to read the corpus in again as the revised version without the .DS_Store file\n",
    "corpus_length = len(corpus)\n",
    "print(corpus_length)"
   ],
   "metadata": {
    "collapsed": false,
    "ExecuteTime": {
     "end_time": "2025-05-19T09:55:17.583331Z",
     "start_time": "2025-05-19T09:55:17.581081Z"
    }
   },
   "id": "321a6636943aa07e",
   "execution_count": 5
  },
  {
   "cell_type": "code",
   "outputs": [],
   "source": [
    "txt_folder = corpus_directory\n"
   ],
   "metadata": {
    "collapsed": false,
    "ExecuteTime": {
     "end_time": "2025-05-19T09:55:19.284709Z",
     "start_time": "2025-05-19T09:55:19.282723Z"
    }
   },
   "id": "5c967729ad7066bc",
   "execution_count": 6
  },
  {
   "cell_type": "markdown",
   "source": [
    "Now, I want to iterate over the txt files and change some strings with the help of regular expressions to have cleaned input files."
   ],
   "metadata": {
    "collapsed": false
   },
   "id": "fa1172cb708f82a9"
  },
  {
   "cell_type": "code",
   "outputs": [],
   "source": [
    "import os\n",
    "import re\n",
    "\n",
    "def process_txt_files(txt_folder, replacements):\n",
    "    # Iterate over each txt file in the folder\n",
    "    for filename in os.listdir(txt_folder):\n",
    "        if filename.endswith('.txt'):\n",
    "            txt_file_path = os.path.join(txt_folder, filename)\n",
    "            # Read the text file\n",
    "            with open(txt_file_path, 'r', encoding='utf-8') as file:\n",
    "                text = file.read()\n",
    "\n",
    "            # Iterate over replacements to find and replace regex matches\n",
    "            for regex_pattern, replacement in replacements.items():\n",
    "                text = re.sub(regex_pattern, replacement, text)\n",
    "      \n",
    "\n",
    "            # Write the modified text back to the file\n",
    "            with open(txt_file_path, 'w', encoding='utf-8') as file:\n",
    "                file.write(text)\n"
   ],
   "metadata": {
    "collapsed": false,
    "ExecuteTime": {
     "end_time": "2025-05-19T09:55:27.452452Z",
     "start_time": "2025-05-19T09:55:27.449004Z"
    }
   },
   "id": "a8126b8daabc2ecc",
   "execution_count": 7
  },
  {
   "cell_type": "code",
   "outputs": [],
   "source": [
    "replacements = {\n",
    "    r'&': 'and',\n",
    "    r'\\n\\n': r'\\n',\n",
    "    r'\\s+': ' ',\n",
    "    r'<<': '',\n",
    "    r'>>': '',\n",
    "    r'‹': '«',\n",
    "    r'›': '»',\n",
    "    r'<poem>': '',\n",
    "    r'»': '» ',\n",
    "    r'»  ': '» ',\n",
    "    r'«': ' «',\n",
    "    r'  «': ' «',\n",
    "    r\"´s\": \"'s\",\n",
    "    r'„': '» ',\n",
    "    r'“':' «',\n",
    "    r'–':' – ',\n",
    "    r'  –  ':' – ',\n",
    "    r'…':' … ',\n",
    "    r'  …  ':' … ',\n",
    "    r'</title> ': r'</title>\\n\\n',\n",
    "    r'</scene> ': r'</scene>\\n\\n',\n",
    "    r'</non-scene> ': r'</non-scene>\\n\\n',\n",
    "    r'</section> ': r'</section>\\n\\n',\n",
    "    r'</chapter> ': r'</chapter>\\n\\n',\n",
    "    r'<scene>': r'\\n\\n<scene>',\n",
    "    r'<non-scene>': r'\\n\\n<non-scene>',\n",
    "    r'<section>': r'\\n\\n<section>',\n",
    "    r'<chapter>': r'\\n\\n<chapter>',\n",
    "}\n",
    "\n",
    "#control if there are </chapter>Chapter</chapter> errors or other!\n"
   ],
   "metadata": {
    "collapsed": false,
    "ExecuteTime": {
     "end_time": "2025-05-19T09:55:29.939164Z",
     "start_time": "2025-05-19T09:55:29.935635Z"
    }
   },
   "id": "9ec374905dd2d870",
   "execution_count": 8
  },
  {
   "cell_type": "code",
   "outputs": [],
   "source": [
    "process_txt_files(txt_folder, replacements)"
   ],
   "metadata": {
    "collapsed": false,
    "ExecuteTime": {
     "end_time": "2025-05-19T09:55:36.413324Z",
     "start_time": "2025-05-19T09:55:35.749512Z"
    }
   },
   "id": "41a18a72de203857",
   "execution_count": 9
  },
  {
   "cell_type": "markdown",
   "source": [
    "\n",
    "Take the chosen files and automatically transform them into xml files."
   ],
   "metadata": {
    "collapsed": false
   },
   "id": "8872e7d594a52eb9"
  },
  {
   "cell_type": "code",
   "outputs": [
    {
     "name": "stdout",
     "output_type": "stream",
     "text": [
      "File 'OMF.txt' transformed to XML and saved as '/Users/sguhr/Desktop/Diss_notebooks/Diss_data_notebooks_man_anno/Subcorpora_XML/DNovXML_XML/OMF.xml'\n",
      "File 'GE.txt' transformed to XML and saved as '/Users/sguhr/Desktop/Diss_notebooks/Diss_data_notebooks_man_anno/Subcorpora_XML/DNovXML_XML/GE.xml'\n",
      "File 'TTC.txt' transformed to XML and saved as '/Users/sguhr/Desktop/Diss_notebooks/Diss_data_notebooks_man_anno/Subcorpora_XML/DNovXML_XML/TTC.xml'\n",
      "File 'BH.txt' transformed to XML and saved as '/Users/sguhr/Desktop/Diss_notebooks/Diss_data_notebooks_man_anno/Subcorpora_XML/DNovXML_XML/BH.xml'\n",
      "File 'NN.txt' transformed to XML and saved as '/Users/sguhr/Desktop/Diss_notebooks/Diss_data_notebooks_man_anno/Subcorpora_XML/DNovXML_XML/NN.xml'\n",
      "File 'MC.txt' transformed to XML and saved as '/Users/sguhr/Desktop/Diss_notebooks/Diss_data_notebooks_man_anno/Subcorpora_XML/DNovXML_XML/MC.xml'\n",
      "File 'LD.txt' transformed to XML and saved as '/Users/sguhr/Desktop/Diss_notebooks/Diss_data_notebooks_man_anno/Subcorpora_XML/DNovXML_XML/LD.xml'\n",
      "File 'OT.txt' transformed to XML and saved as '/Users/sguhr/Desktop/Diss_notebooks/Diss_data_notebooks_man_anno/Subcorpora_XML/DNovXML_XML/OT.xml'\n",
      "File 'BR.txt' transformed to XML and saved as '/Users/sguhr/Desktop/Diss_notebooks/Diss_data_notebooks_man_anno/Subcorpora_XML/DNovXML_XML/BR.xml'\n",
      "File 'OCS.txt' transformed to XML and saved as '/Users/sguhr/Desktop/Diss_notebooks/Diss_data_notebooks_man_anno/Subcorpora_XML/DNovXML_XML/OCS.xml'\n",
      "File 'HT.txt' transformed to XML and saved as '/Users/sguhr/Desktop/Diss_notebooks/Diss_data_notebooks_man_anno/Subcorpora_XML/DNovXML_XML/HT.xml'\n",
      "File 'ED.txt' transformed to XML and saved as '/Users/sguhr/Desktop/Diss_notebooks/Diss_data_notebooks_man_anno/Subcorpora_XML/DNovXML_XML/ED.xml'\n",
      "File 'PP.txt' transformed to XML and saved as '/Users/sguhr/Desktop/Diss_notebooks/Diss_data_notebooks_man_anno/Subcorpora_XML/DNovXML_XML/PP.xml'\n",
      "File 'DC.txt' transformed to XML and saved as '/Users/sguhr/Desktop/Diss_notebooks/Diss_data_notebooks_man_anno/Subcorpora_XML/DNovXML_XML/DC.xml'\n",
      "File 'DS.txt' transformed to XML and saved as '/Users/sguhr/Desktop/Diss_notebooks/Diss_data_notebooks_man_anno/Subcorpora_XML/DNovXML_XML/DS.xml'\n"
     ]
    }
   ],
   "source": [
    "import os\n",
    "\n",
    "def remove_ds_store_file(source_dir):\n",
    "    # Remove the .DS_Store file if it exists\n",
    "    ds_store_path = os.path.join(source_dir, \".DS_Store\")\n",
    "    if os.path.exists(ds_store_path):\n",
    "        os.remove(ds_store_path)\n",
    "        print(\".DS_Store file removed\")\n",
    "\n",
    "\n",
    "def transform_to_xml(source_dir, destination_dir):\n",
    "    # Extract the folder name from the source directory\n",
    "    source_folder_name = os.path.basename(os.path.normpath(source_dir))\n",
    "    \n",
    "    # Construct the destination directory name by adding '_XML' to the source folder name\n",
    "    destination_folder_name = source_folder_name + \"_XML\"\n",
    "    destination_dir = os.path.join(destination_dir, destination_folder_name)\n",
    "    \n",
    "    # Create the destination directory if it doesn't exist\n",
    "    if not os.path.exists(destination_dir):\n",
    "        os.makedirs(destination_dir)\n",
    "           \n",
    "    # Iterate through each file in the source directory\n",
    "    for filename in os.listdir(source_dir):\n",
    "        source_file_path = os.path.join(source_dir, filename)\n",
    "        \n",
    "        # Check if the file is a regular file\n",
    "        if os.path.isfile(source_file_path):\n",
    "            # Read the content of the file\n",
    "            with open(source_file_path, 'r') as file:\n",
    "                content = file.read()\n",
    "            \n",
    "            # Construct the XML content\n",
    "            xml_content = f\"\"\"<?xml version=\"1.0\" encoding=\"UTF-8\"?>\n",
    "<TEI xmlns=\"http://www.tei-c.org/ns/1.0\" xmlns:xs=\"http://www.w3.org/2001/XMLSchema\">\n",
    "    <teiHeader>\n",
    "        <fileDesc>\n",
    "            <titleStmt>\n",
    "                <title>{filename}</title>\n",
    "            </titleStmt>\n",
    "        </fileDesc>\n",
    "    </teiHeader>\n",
    "    <text>\n",
    "        <body>\n",
    "{content}\n",
    "        </body>\n",
    "    </text>\n",
    "</TEI>\n",
    "\"\"\"\n",
    "\n",
    "            # Write the XML content to a new file in the destination directory\n",
    "            xml_file_path = os.path.join(destination_dir, filename.replace('.txt', '.xml'))\n",
    "            with open(xml_file_path, 'w') as xml_file:\n",
    "                xml_file.write(xml_content)\n",
    "            \n",
    "            print(f\"File '{filename}' transformed to XML and saved as '{xml_file_path}'\")\n",
    "\n",
    "# Example usage\n",
    "source_directory = corpus_directory\n",
    "destination_directory = \"/Users/sguhr/Downloads/corpora-master/DNov_XML\"\n",
    "\n",
    "# Optionally remove the .DS_Store file\n",
    "remove_ds_store_file(source_directory)\n",
    "\n",
    "# Transform files to XML\n",
    "transform_to_xml(source_directory, destination_directory)\n"
   ],
   "metadata": {
    "collapsed": false,
    "ExecuteTime": {
     "end_time": "2025-05-19T09:55:41.493108Z",
     "start_time": "2025-05-19T09:55:41.458954Z"
    }
   },
   "id": "af4dac572e143f57",
   "execution_count": 10
  },
  {
   "cell_type": "code",
   "outputs": [
    {
     "name": "stdout",
     "output_type": "stream",
     "text": [
      "Ready.\n"
     ]
    }
   ],
   "source": [
    "print(\"Ready.\")"
   ],
   "metadata": {
    "collapsed": false,
    "ExecuteTime": {
     "end_time": "2025-05-19T09:55:44.487095Z",
     "start_time": "2025-05-19T09:55:44.484488Z"
    }
   },
   "id": "f2b100ceb397bd74",
   "execution_count": 11
  },
  {
   "cell_type": "markdown",
   "source": [
    "Enriching the new XML files with <chapter number=1> element-attribute combinations. "
   ],
   "metadata": {
    "collapsed": false
   },
   "id": "2f92532a35ea5cfb"
  },
  {
   "cell_type": "code",
   "outputs": [
    {
     "name": "stdout",
     "output_type": "stream",
     "text": [
      "Processed: BH.xml\n",
      "Processed: MC.xml\n",
      "Processed: NN.xml\n",
      "Processed: LD.xml\n",
      "Processed: GE.xml\n",
      "Processed: OMF.xml\n",
      "Processed: TTC.xml\n",
      "Processed: HT.xml\n",
      "Processed: ED.xml\n",
      "Processed: OCS.xml\n",
      "Processed: DC.xml\n",
      "Processed: PP.xml\n",
      "Processed: DS.xml\n",
      "Processed: BR.xml\n",
      "Processed: OT.xml\n"
     ]
    }
   ],
   "source": [
    "import re\n",
    "import os\n",
    "\n",
    "# 1. Define the folder path containing your .xml files\n",
    "#folder_path = \"/Users/sguhr/Downloads/corpora-master/DNov_XML\"  # \n",
    "folder_path = destination_directory\n",
    "\n",
    "# 2. Define the regex pattern to match the word \"CHAPTER\" (uppercase only, standalone word)\n",
    "chapter_pattern = re.compile(r'\\bCHAPTER\\b')\n",
    "\n",
    "# 3. Function to wrap \"CHAPTER\" in a numbered <chapter> tag\n",
    "def wrap_chapters(xml_text):\n",
    "    chapter_count = [0]  # Using a list to allow mutation inside nested function\n",
    "\n",
    "    def replacer(match):\n",
    "        chapter_count[0] += 1\n",
    "        return f'<chapter number=\"{chapter_count[0]}\">CHAPTER</chapter>'\n",
    "\n",
    "    return chapter_pattern.sub(replacer, xml_text)\n",
    "\n",
    "# 4. Process each XML file in the folder\n",
    "for filename in os.listdir(folder_path):\n",
    "    if filename.endswith('.xml'):\n",
    "        file_path = os.path.join(folder_path, filename)\n",
    "\n",
    "        # Read the file\n",
    "        with open(file_path, 'r', encoding='utf-8') as file:\n",
    "            content = file.read()\n",
    "\n",
    "        # Apply the transformation\n",
    "        enriched_content = wrap_chapters(content)\n",
    "\n",
    "        # Write to a new file with \"_enriched\" added to the name\n",
    "        new_file_path = os.path.join(folder_path, filename.replace('.xml', '_enriched.xml'))\n",
    "        with open(new_file_path, 'w', encoding='utf-8') as file:\n",
    "            file.write(enriched_content)\n",
    "\n",
    "        print(f\"Processed: {filename}\")\n"
   ],
   "metadata": {
    "collapsed": false,
    "ExecuteTime": {
     "end_time": "2025-05-19T10:15:32.701683Z",
     "start_time": "2025-05-19T10:15:32.501001Z"
    }
   },
   "id": "dc241b82af9551ed",
   "execution_count": 14
  },
  {
   "cell_type": "code",
   "outputs": [],
   "source": [],
   "metadata": {
    "collapsed": false
   },
   "id": "fb33467881bc7728"
  }
 ],
 "metadata": {
  "kernelspec": {
   "display_name": "Python 3",
   "language": "python",
   "name": "python3"
  },
  "language_info": {
   "codemirror_mode": {
    "name": "ipython",
    "version": 2
   },
   "file_extension": ".py",
   "mimetype": "text/x-python",
   "name": "python",
   "nbconvert_exporter": "python",
   "pygments_lexer": "ipython2",
   "version": "2.7.6"
  }
 },
 "nbformat": 4,
 "nbformat_minor": 5
}
